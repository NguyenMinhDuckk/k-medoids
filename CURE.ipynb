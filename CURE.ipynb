{
 "cells": [
  {
   "cell_type": "markdown",
   "metadata": {},
   "source": [
    "### Thuật Toán CURE"
   ]
  },
  {
   "cell_type": "code",
   "metadata": {
    "ExecuteTime": {
     "end_time": "2025-04-13T16:59:33.076086Z",
     "start_time": "2025-04-13T16:59:33.059009Z"
    }
   },
   "source": [
    "import numpy as np\n",
    "import pandas as pd\n",
    "import matplotlib.pyplot as plt\n",
    "from scipy.spatial.distance import cdist\n",
    "from sklearn.preprocessing import StandardScaler\n",
    "from sklearn.metrics import silhouette_score, davies_bouldin_score, calinski_harabasz_score\n",
    "from sklearn.utils import resample\n",
    "from sklearn.decomposition import PCA\n",
    "from mpl_toolkits.mplot3d import Axes3D \n"
   ],
   "outputs": [],
   "execution_count": 12
  },
  {
   "cell_type": "markdown",
   "metadata": {},
   "source": [
    "### Đọc dữ liệu"
   ]
  },
  {
   "cell_type": "code",
   "metadata": {
    "ExecuteTime": {
     "end_time": "2025-04-13T16:59:33.202275Z",
     "start_time": "2025-04-13T16:59:33.103010Z"
    }
   },
   "source": [
    "# Đọc dữ liệu\n",
    "data = pd.read_csv('student_depression_dataset.csv')\n",
    "print(data)"
   ],
   "outputs": [
    {
     "name": "stdout",
     "output_type": "stream",
     "text": [
      "           id  Gender   Age           City Profession  Academic Pressure  \\\n",
      "0           2    Male  33.0  Visakhapatnam    Student                5.0   \n",
      "1           8  Female  24.0      Bangalore    Student                2.0   \n",
      "2          26    Male  31.0       Srinagar    Student                3.0   \n",
      "3          30  Female  28.0       Varanasi    Student                3.0   \n",
      "4          32  Female  25.0         Jaipur    Student                4.0   \n",
      "...       ...     ...   ...            ...        ...                ...   \n",
      "27896  140685  Female  27.0          Surat    Student                5.0   \n",
      "27897  140686    Male  27.0       Ludhiana    Student                2.0   \n",
      "27898  140689    Male  31.0      Faridabad    Student                3.0   \n",
      "27899  140690  Female  18.0       Ludhiana    Student                5.0   \n",
      "27900  140699    Male  27.0          Patna    Student                4.0   \n",
      "\n",
      "       Work Pressure  CGPA  Study Satisfaction  Job Satisfaction  \\\n",
      "0                0.0  8.97                 2.0               0.0   \n",
      "1                0.0  5.90                 5.0               0.0   \n",
      "2                0.0  7.03                 5.0               0.0   \n",
      "3                0.0  5.59                 2.0               0.0   \n",
      "4                0.0  8.13                 3.0               0.0   \n",
      "...              ...   ...                 ...               ...   \n",
      "27896            0.0  5.75                 5.0               0.0   \n",
      "27897            0.0  9.40                 3.0               0.0   \n",
      "27898            0.0  6.61                 4.0               0.0   \n",
      "27899            0.0  6.88                 2.0               0.0   \n",
      "27900            0.0  9.24                 1.0               0.0   \n",
      "\n",
      "            Sleep Duration Dietary Habits      Degree  \\\n",
      "0              '5-6 hours'        Healthy     B.Pharm   \n",
      "1              '5-6 hours'       Moderate         BSc   \n",
      "2      'Less than 5 hours'        Healthy          BA   \n",
      "3              '7-8 hours'       Moderate         BCA   \n",
      "4              '5-6 hours'       Moderate      M.Tech   \n",
      "...                    ...            ...         ...   \n",
      "27896          '5-6 hours'      Unhealthy  'Class 12'   \n",
      "27897  'Less than 5 hours'        Healthy         MSc   \n",
      "27898          '5-6 hours'      Unhealthy          MD   \n",
      "27899  'Less than 5 hours'        Healthy  'Class 12'   \n",
      "27900  'Less than 5 hours'        Healthy         BCA   \n",
      "\n",
      "      Have you ever had suicidal thoughts ?  Work/Study Hours  \\\n",
      "0                                       Yes               3.0   \n",
      "1                                        No               3.0   \n",
      "2                                        No               9.0   \n",
      "3                                       Yes               4.0   \n",
      "4                                       Yes               1.0   \n",
      "...                                     ...               ...   \n",
      "27896                                   Yes               7.0   \n",
      "27897                                    No               0.0   \n",
      "27898                                    No              12.0   \n",
      "27899                                   Yes              10.0   \n",
      "27900                                   Yes               2.0   \n",
      "\n",
      "      Financial Stress Family History of Mental Illness  Depression  \n",
      "0                  1.0                               No           1  \n",
      "1                  2.0                              Yes           0  \n",
      "2                  1.0                              Yes           0  \n",
      "3                  5.0                              Yes           1  \n",
      "4                  1.0                               No           0  \n",
      "...                ...                              ...         ...  \n",
      "27896              1.0                              Yes           0  \n",
      "27897              3.0                              Yes           0  \n",
      "27898              2.0                               No           0  \n",
      "27899              5.0                               No           1  \n",
      "27900              3.0                              Yes           1  \n",
      "\n",
      "[27901 rows x 18 columns]\n"
     ]
    }
   ],
   "execution_count": 13
  },
  {
   "cell_type": "markdown",
   "metadata": {},
   "source": [
    "### Quy Ước "
   ]
  },
  {
   "cell_type": "code",
   "metadata": {
    "ExecuteTime": {
     "end_time": "2025-04-13T16:59:33.341353Z",
     "start_time": "2025-04-13T16:59:33.268845Z"
    }
   },
   "source": [
    "\n",
    "# --- 1. Chuẩn hóa cột Gender ---\n",
    "data['Gender'] = data['Gender'].astype(str).str.strip().str.capitalize()\n",
    "data['Gender'] = data['Gender'].map({'Male': 0, 'Female': 1})\n",
    "\n",
    "# --- 2. Chuẩn hóa cột Dietary Habits ---\n",
    "data['Dietary Habits'] = data['Dietary Habits'].astype(str).str.strip().str.capitalize()\n",
    "data['Dietary Habits'] = data['Dietary Habits'].map({\n",
    "    'Unhealthy': 0,\n",
    "    'Moderate': 1,\n",
    "    'Healthy': 2,\n",
    "    'Others': 3 \n",
    "})\n",
    "\n",
    "# --- 3. Chuẩn hóa cột \"Have you ever had suicidal thoughts ?\" ---\n",
    "# Kiểm tra đúng tên cột (nên copy y nguyên)\n",
    "suicidal_col = \"Have you ever had suicidal thoughts ?\"\n",
    "data[suicidal_col] = data[suicidal_col].astype(str).str.strip().str.capitalize()\n",
    "data[suicidal_col] = data[suicidal_col].map({'No': 0, 'Yes': 1})\n",
    "\n",
    "# Quy ước Family History of Mental Illness: 0 - No, 1 - Yes\n",
    "data['Family History of Mental Illness'] = data['Family History of Mental Illness'].map({\n",
    "    'No': 0,\n",
    "    'Yes': 1\n",
    "})\n",
    "\n",
    "# Kiểm tra kết quả\n",
    "print(data.head())"
   ],
   "outputs": [
    {
     "name": "stdout",
     "output_type": "stream",
     "text": [
      "   id  Gender   Age           City Profession  Academic Pressure  \\\n",
      "0   2       0  33.0  Visakhapatnam    Student                5.0   \n",
      "1   8       1  24.0      Bangalore    Student                2.0   \n",
      "2  26       0  31.0       Srinagar    Student                3.0   \n",
      "3  30       1  28.0       Varanasi    Student                3.0   \n",
      "4  32       1  25.0         Jaipur    Student                4.0   \n",
      "\n",
      "   Work Pressure  CGPA  Study Satisfaction  Job Satisfaction  \\\n",
      "0            0.0  8.97                 2.0               0.0   \n",
      "1            0.0  5.90                 5.0               0.0   \n",
      "2            0.0  7.03                 5.0               0.0   \n",
      "3            0.0  5.59                 2.0               0.0   \n",
      "4            0.0  8.13                 3.0               0.0   \n",
      "\n",
      "        Sleep Duration  Dietary Habits   Degree  \\\n",
      "0          '5-6 hours'               2  B.Pharm   \n",
      "1          '5-6 hours'               1      BSc   \n",
      "2  'Less than 5 hours'               2       BA   \n",
      "3          '7-8 hours'               1      BCA   \n",
      "4          '5-6 hours'               1   M.Tech   \n",
      "\n",
      "   Have you ever had suicidal thoughts ?  Work/Study Hours Financial Stress  \\\n",
      "0                                      1               3.0              1.0   \n",
      "1                                      0               3.0              2.0   \n",
      "2                                      0               9.0              1.0   \n",
      "3                                      1               4.0              5.0   \n",
      "4                                      1               1.0              1.0   \n",
      "\n",
      "   Family History of Mental Illness  Depression  \n",
      "0                                 0           1  \n",
      "1                                 1           0  \n",
      "2                                 1           0  \n",
      "3                                 1           1  \n",
      "4                                 0           0  \n"
     ]
    }
   ],
   "execution_count": 14
  },
  {
   "cell_type": "markdown",
   "metadata": {},
   "source": [
    "### Xử lý Sleep Duration"
   ]
  },
  {
   "cell_type": "code",
   "metadata": {
    "ExecuteTime": {
     "end_time": "2025-04-13T16:59:33.575427Z",
     "start_time": "2025-04-13T16:59:33.408361Z"
    }
   },
   "source": [
    "import pandas as pd\n",
    "import re\n",
    "\n",
    "def convert_sleep_duration(duration_str):\n",
    "    if pd.isna(duration_str):\n",
    "        return None\n",
    "\n",
    "    duration_str = str(duration_str).lower().strip()\n",
    "\n",
    "    # Trường hợp \"less than X hours\"\n",
    "    match_less = re.search(r\"less than (\\d+\\.?\\d*)\", duration_str)\n",
    "    if match_less:\n",
    "        hour = float(match_less.group(1))\n",
    "        return hour - 0.5\n",
    "\n",
    "    # Trường hợp \"more than X hours\"\n",
    "    match_more = re.search(r\"more than (\\d+\\.?\\d*)\", duration_str)\n",
    "    if match_more:\n",
    "        hour = float(match_more.group(1))\n",
    "        return hour + 0.5\n",
    "\n",
    "    # Trường hợp \"X-Y hours\"\n",
    "    match_range = re.findall(r\"(\\d+\\.?\\d*)\", duration_str)\n",
    "    if len(match_range) == 2:\n",
    "        return (float(match_range[0]) + float(match_range[1])) / 2\n",
    "\n",
    "    # Trường hợp \"X hours\"\n",
    "    match_single = re.search(r\"(\\d+\\.?\\d*)\", duration_str)\n",
    "    if match_single:\n",
    "        return float(match_single.group(1))\n",
    "\n",
    "    return None\n",
    "\n",
    "def categorize_sleep_duration(hours):\n",
    "    if pd.isna(hours):\n",
    "        return None\n",
    "    elif hours < 6:\n",
    "        return 0\n",
    "    elif 6 <= hours <= 8:\n",
    "        return 1\n",
    "    else:\n",
    "        return 2\n",
    "\n",
    "# Áp dụng chuyển đổi\n",
    "data['Sleep Duration'] = data['Sleep Duration'].apply(convert_sleep_duration)\n",
    "data['Sleep Duration'] = data['Sleep Duration'].apply(categorize_sleep_duration)\n",
    "\n",
    "print(data.head(10))\n"
   ],
   "outputs": [
    {
     "name": "stdout",
     "output_type": "stream",
     "text": [
      "   id  Gender   Age           City Profession  Academic Pressure  \\\n",
      "0   2       0  33.0  Visakhapatnam    Student                5.0   \n",
      "1   8       1  24.0      Bangalore    Student                2.0   \n",
      "2  26       0  31.0       Srinagar    Student                3.0   \n",
      "3  30       1  28.0       Varanasi    Student                3.0   \n",
      "4  32       1  25.0         Jaipur    Student                4.0   \n",
      "5  33       0  29.0           Pune    Student                2.0   \n",
      "6  52       0  30.0          Thane    Student                3.0   \n",
      "7  56       1  30.0        Chennai    Student                2.0   \n",
      "8  59       0  28.0         Nagpur    Student                3.0   \n",
      "9  62       0  31.0         Nashik    Student                2.0   \n",
      "\n",
      "   Work Pressure  CGPA  Study Satisfaction  Job Satisfaction  Sleep Duration  \\\n",
      "0            0.0  8.97                 2.0               0.0             0.0   \n",
      "1            0.0  5.90                 5.0               0.0             0.0   \n",
      "2            0.0  7.03                 5.0               0.0             0.0   \n",
      "3            0.0  5.59                 2.0               0.0             1.0   \n",
      "4            0.0  8.13                 3.0               0.0             0.0   \n",
      "5            0.0  5.70                 3.0               0.0             0.0   \n",
      "6            0.0  9.54                 4.0               0.0             1.0   \n",
      "7            0.0  8.04                 4.0               0.0             0.0   \n",
      "8            0.0  9.79                 1.0               0.0             1.0   \n",
      "9            0.0  8.38                 3.0               0.0             0.0   \n",
      "\n",
      "   Dietary Habits      Degree  Have you ever had suicidal thoughts ?  \\\n",
      "0               2     B.Pharm                                      1   \n",
      "1               1         BSc                                      0   \n",
      "2               2          BA                                      0   \n",
      "3               1         BCA                                      1   \n",
      "4               1      M.Tech                                      1   \n",
      "5               2         PhD                                      0   \n",
      "6               2         BSc                                      0   \n",
      "7               0  'Class 12'                                      0   \n",
      "8               1        B.Ed                                      1   \n",
      "9               1         LLB                                      1   \n",
      "\n",
      "   Work/Study Hours Financial Stress  Family History of Mental Illness  \\\n",
      "0               3.0              1.0                                 0   \n",
      "1               3.0              2.0                                 1   \n",
      "2               9.0              1.0                                 1   \n",
      "3               4.0              5.0                                 1   \n",
      "4               1.0              1.0                                 0   \n",
      "5               4.0              1.0                                 0   \n",
      "6               1.0              2.0                                 0   \n",
      "7               0.0              1.0                                 1   \n",
      "8              12.0              3.0                                 0   \n",
      "9               2.0              5.0                                 0   \n",
      "\n",
      "   Depression  \n",
      "0           1  \n",
      "1           0  \n",
      "2           0  \n",
      "3           1  \n",
      "4           0  \n",
      "5           0  \n",
      "6           0  \n",
      "7           0  \n",
      "8           1  \n",
      "9           1  \n"
     ]
    }
   ],
   "execution_count": 15
  },
  {
   "cell_type": "markdown",
   "metadata": {},
   "source": [
    "### Loại bỏ những cột không cần thiết"
   ]
  },
  {
   "cell_type": "code",
   "metadata": {
    "ExecuteTime": {
     "end_time": "2025-04-13T16:59:33.670036Z",
     "start_time": "2025-04-13T16:59:33.640977Z"
    }
   },
   "source": [
    "cols_to_drop = [\n",
    "    'id',\n",
    "    'City',\n",
    "    'Profession',\n",
    "    'Work Pressure',\n",
    "    'Job Satisfaction',\n",
    "    'Degree',\n",
    "    'Depression'  # Chỉ bỏ nếu bạn không phân tích nhãn nữa\n",
    "]\n",
    "\n",
    "# Xoá cột\n",
    "data_cleaned = data.drop(columns=cols_to_drop)\n",
    "\n",
    "print(data_cleaned.head())\n",
    "print(data_cleaned.columns)"
   ],
   "outputs": [
    {
     "name": "stdout",
     "output_type": "stream",
     "text": [
      "   Gender   Age  Academic Pressure  CGPA  Study Satisfaction  Sleep Duration  \\\n",
      "0       0  33.0                5.0  8.97                 2.0             0.0   \n",
      "1       1  24.0                2.0  5.90                 5.0             0.0   \n",
      "2       0  31.0                3.0  7.03                 5.0             0.0   \n",
      "3       1  28.0                3.0  5.59                 2.0             1.0   \n",
      "4       1  25.0                4.0  8.13                 3.0             0.0   \n",
      "\n",
      "   Dietary Habits  Have you ever had suicidal thoughts ?  Work/Study Hours  \\\n",
      "0               2                                      1               3.0   \n",
      "1               1                                      0               3.0   \n",
      "2               2                                      0               9.0   \n",
      "3               1                                      1               4.0   \n",
      "4               1                                      1               1.0   \n",
      "\n",
      "  Financial Stress  Family History of Mental Illness  \n",
      "0              1.0                                 0  \n",
      "1              2.0                                 1  \n",
      "2              1.0                                 1  \n",
      "3              5.0                                 1  \n",
      "4              1.0                                 0  \n",
      "Index(['Gender', 'Age', 'Academic Pressure', 'CGPA', 'Study Satisfaction',\n",
      "       'Sleep Duration', 'Dietary Habits',\n",
      "       'Have you ever had suicidal thoughts ?', 'Work/Study Hours',\n",
      "       'Financial Stress', 'Family History of Mental Illness'],\n",
      "      dtype='object')\n"
     ]
    }
   ],
   "execution_count": 16
  },
  {
   "cell_type": "markdown",
   "metadata": {},
   "source": [
    "### Kiểm tra dữ liệu trùng lặp"
   ]
  },
  {
   "cell_type": "code",
   "metadata": {
    "ExecuteTime": {
     "end_time": "2025-04-13T16:59:33.779584Z",
     "start_time": "2025-04-13T16:59:33.737569Z"
    }
   },
   "source": [
    "print(\"Số dòng trước khi loại bỏ:\", len(data))\n",
    "df = data_cleaned.drop_duplicates()\n",
    "print(\"Số dòng sau khi loại bỏ:\", len(df))"
   ],
   "outputs": [
    {
     "name": "stdout",
     "output_type": "stream",
     "text": [
      "Số dòng trước khi loại bỏ: 27901\n",
      "Số dòng sau khi loại bỏ: 27897\n"
     ]
    }
   ],
   "execution_count": 17
  },
  {
   "cell_type": "markdown",
   "metadata": {},
   "source": [
    "### Lọc chỉ lấy các cột số"
   ]
  },
  {
   "cell_type": "code",
   "metadata": {
    "ExecuteTime": {
     "end_time": "2025-04-13T16:59:33.919491Z",
     "start_time": "2025-04-13T16:59:33.859049Z"
    }
   },
   "source": [
    "df[\"Financial Stress\"] = df[\"Financial Stress\"].replace(\"?\", np.nan)\n",
    "df[\"Financial Stress\"] = df[\"Financial Stress\"].astype(float)\n",
    "\n",
    "# Chọn ra các cột số cần chuẩn hoá\n",
    "numeric_cols = df.select_dtypes(include=['float64', 'int64']).columns\n",
    "\n",
    "# Nếu có NaN, bạn có thể điền giá trị trung bình vào các NaN\n",
    "df[numeric_cols] = df[numeric_cols].fillna(df[numeric_cols].mean())\n",
    "\n",
    "# Khởi tạo scaler và fit-transform\n",
    "scaler = StandardScaler()\n",
    "df[numeric_cols] = scaler.fit_transform(df[numeric_cols])\n",
    "\n",
    "# Kiểm tra lại dữ liệu sau khi chuẩn hóa\n",
    "print(df[numeric_cols].head())\n",
    "\n",
    "# Giảm từ 11 chiều xuống 3 chiều\n",
    "pca = PCA(n_components=2)\n",
    "X_pca = pca.fit_transform(df[numeric_cols])  # X_scaled là dữ liệu đã chuẩn hóa\n",
    "\n",
    "# Kiểm tra kết quả PCA\n",
    "print(X_pca)\n"
   ],
   "outputs": [
    {
     "name": "stdout",
     "output_type": "stream",
     "text": [
      "     Gender       Age  Academic Pressure      CGPA  Study Satisfaction  \\\n",
      "0 -0.891531  1.463238           1.345534  0.893410           -0.693332   \n",
      "1  1.121666 -0.371440          -0.826122 -1.193993            1.510619   \n",
      "2 -0.891531  1.055532          -0.102237 -0.425666            1.510619   \n",
      "3  1.121666  0.443972          -0.102237 -1.404773           -0.693332   \n",
      "4  1.121666 -0.167587           0.621648  0.322263            0.041319   \n",
      "\n",
      "   Sleep Duration  Dietary Habits  Have you ever had suicidal thoughts ?  \\\n",
      "0       -0.868362        1.371751                               0.761714   \n",
      "1       -0.868362        0.118591                              -1.312828   \n",
      "2       -0.868362        1.371751                              -1.312828   \n",
      "3        0.377473        0.118591                               0.761714   \n",
      "4       -0.868362        0.118591                               0.761714   \n",
      "\n",
      "   Work/Study Hours  Financial Stress  Family History of Mental Illness  \n",
      "0         -1.121207         -1.488869                         -0.968486  \n",
      "1         -1.121207         -0.793052                          1.032540  \n",
      "2          0.497181         -1.488869                          1.032540  \n",
      "3         -0.851476          1.294398                          1.032540  \n",
      "4         -1.660670         -1.488869                         -0.968486  \n",
      "[[-0.44898918 -1.05945163]\n",
      " [-1.93021643  1.97656398]\n",
      " [-2.11331711  0.49489381]\n",
      " ...\n",
      " [-0.87410988 -0.70186705]\n",
      " [ 2.04404925  1.52099242]\n",
      " [ 0.35209867 -0.80345041]]\n"
     ]
    },
    {
     "name": "stderr",
     "output_type": "stream",
     "text": [
      "C:\\Users\\DUC\\AppData\\Local\\Temp\\ipykernel_20072\\374062933.py:1: SettingWithCopyWarning: \n",
      "A value is trying to be set on a copy of a slice from a DataFrame.\n",
      "Try using .loc[row_indexer,col_indexer] = value instead\n",
      "\n",
      "See the caveats in the documentation: https://pandas.pydata.org/pandas-docs/stable/user_guide/indexing.html#returning-a-view-versus-a-copy\n",
      "  df[\"Financial Stress\"] = df[\"Financial Stress\"].replace(\"?\", np.nan)\n",
      "C:\\Users\\DUC\\AppData\\Local\\Temp\\ipykernel_20072\\374062933.py:2: SettingWithCopyWarning: \n",
      "A value is trying to be set on a copy of a slice from a DataFrame.\n",
      "Try using .loc[row_indexer,col_indexer] = value instead\n",
      "\n",
      "See the caveats in the documentation: https://pandas.pydata.org/pandas-docs/stable/user_guide/indexing.html#returning-a-view-versus-a-copy\n",
      "  df[\"Financial Stress\"] = df[\"Financial Stress\"].astype(float)\n",
      "C:\\Users\\DUC\\AppData\\Local\\Temp\\ipykernel_20072\\374062933.py:8: SettingWithCopyWarning: \n",
      "A value is trying to be set on a copy of a slice from a DataFrame.\n",
      "Try using .loc[row_indexer,col_indexer] = value instead\n",
      "\n",
      "See the caveats in the documentation: https://pandas.pydata.org/pandas-docs/stable/user_guide/indexing.html#returning-a-view-versus-a-copy\n",
      "  df[numeric_cols] = df[numeric_cols].fillna(df[numeric_cols].mean())\n",
      "C:\\Users\\DUC\\AppData\\Local\\Temp\\ipykernel_20072\\374062933.py:12: SettingWithCopyWarning: \n",
      "A value is trying to be set on a copy of a slice from a DataFrame.\n",
      "Try using .loc[row_indexer,col_indexer] = value instead\n",
      "\n",
      "See the caveats in the documentation: https://pandas.pydata.org/pandas-docs/stable/user_guide/indexing.html#returning-a-view-versus-a-copy\n",
      "  df[numeric_cols] = scaler.fit_transform(df[numeric_cols])\n"
     ]
    }
   ],
   "execution_count": 18
  },
  {
   "cell_type": "markdown",
   "metadata": {},
   "source": [
    "### Check các cụm qtrong"
   ]
  },
  {
   "cell_type": "code",
   "metadata": {
    "ExecuteTime": {
     "end_time": "2025-04-13T16:59:33.999151Z",
     "start_time": "2025-04-13T16:59:33.970108Z"
    }
   },
   "source": [
    "import pandas as pd\n",
    "from sklearn.decomposition import PCA\n",
    "\n",
    "# Giả sử bạn đã chuẩn hóa và giảm chiều dữ liệu với PCA\n",
    "numeric_cols = df.select_dtypes(include=['float64', 'int64']).columns\n",
    "\n",
    "# Khởi tạo PCA và thực hiện giảm chiều\n",
    "pca = PCA(n_components=2)\n",
    "X_pca = pca.fit_transform(df[numeric_cols])\n",
    "\n",
    "# Lấy các trọng số của từng cột trong các thành phần chính (components_)\n",
    "components_df = pd.DataFrame(pca.components_, columns=numeric_cols)\n",
    "\n",
    "# Để tìm tên cột có ảnh hưởng lớn nhất đến mỗi thành phần chính:\n",
    "for i in range(components_df.shape[0]):\n",
    "    print(f\"Principal Component {i+1}:\")\n",
    "    print(components_df.iloc[i].sort_values(ascending=False).head(3))  # 3 cột ảnh hưởng nhất\n",
    "    print(\"\\n\")\n"
   ],
   "outputs": [
    {
     "name": "stdout",
     "output_type": "stream",
     "text": [
      "Principal Component 1:\n",
      "Have you ever had suicidal thoughts ?    0.536832\n",
      "Academic Pressure                        0.488439\n",
      "Financial Stress                         0.431947\n",
      "Name: 0, dtype: float64\n",
      "\n",
      "\n",
      "Principal Component 2:\n",
      "Gender                0.678894\n",
      "Dietary Habits        0.288589\n",
      "Study Satisfaction    0.256324\n",
      "Name: 1, dtype: float64\n",
      "\n",
      "\n"
     ]
    }
   ],
   "execution_count": 19
  },
  {
   "cell_type": "markdown",
   "metadata": {},
   "source": [
    "### CURE"
   ]
  },
  {
   "cell_type": "code",
   "metadata": {
    "ExecuteTime": {
     "end_time": "2025-04-13T16:59:34.140561Z",
     "start_time": "2025-04-13T16:59:34.103118Z"
    }
   },
   "source": [
    "class CURE:\n",
    "    def __init__(self, k, a, num_representatives):\n",
    "        self.k = k  # Số cụm mong muốn\n",
    "        self.shrink_factor = a  # Hệ số co rút\n",
    "        self.num_representatives = num_representatives  # Số điểm đại diện của mỗi cụm\n",
    "        self.clusters = []  # Danh sách chứa các cụm\n",
    "        self.labels_ = None  # Nhãn của từng điểm\n",
    "    \n",
    "    def fit(self, df):\n",
    "        # Kiểm tra số lượng mẫu ban đầu\n",
    "        print(f\"Số mẫu ban đầu trong DataFrame: {len(df)}\")\n",
    "\n",
    "        if len(df) > 2500:\n",
    "            df = resample(df, n_samples=2500, random_state=42)\n",
    "            print(f\"Số mẫu sau khi lấy ngẫu nhiên: {len(df)}\")\n",
    "            \n",
    "        # Chọn các cột số và lấy giá trị dưới dạng mảng numpy\n",
    "        numeric_cols = ['Gender', 'Age', 'Academic Pressure', 'CGPA', 'Study Satisfaction','Sleep Duration', 'Dietary Habits','Have you ever had suicidal thoughts ?', 'Work/Study Hours','Financial Stress', 'Family History of Mental Illness']\n",
    "        X = df[numeric_cols].values\n",
    "        self.X_ = X\n",
    "\n",
    "        self.clusters = [[x] for x in X]  # Mỗi điểm bắt đầu là một cụm riêng\n",
    "        data_map = {tuple(x): idx for idx, x in enumerate(X)}  # Lưu vị trí ban đầu của từng điểm\n",
    "\n",
    "        # Bước 1: Hợp nhất các cụm gần nhất\n",
    "        while len(self.clusters) > self.k:\n",
    "            min_dist = float('inf')\n",
    "            merge_idx = (-1, -1)\n",
    "\n",
    "            for i in range(len(self.clusters)):\n",
    "                for j in range(i + 1, len(self.clusters)):\n",
    "                    dist = np.min(cdist(self.clusters[i], self.clusters[j]))\n",
    "                    if dist < min_dist:\n",
    "                        min_dist = dist\n",
    "                        merge_idx = (i, j)\n",
    "\n",
    "            i, j = merge_idx\n",
    "            self.clusters[i].extend(self.clusters[j])\n",
    "            del self.clusters[j]\n",
    "\n",
    "        # Gán nhãn cho từng điểm dữ liệu\n",
    "        self.labels_ = np.zeros(len(X), dtype=int)\n",
    "        for cluster_idx, cluster in enumerate(self.clusters):\n",
    "            for point in cluster:\n",
    "                idx = data_map.get(tuple(point))\n",
    "                if idx is not None:\n",
    "                    self.labels_[idx] = cluster_idx\n",
    "\n",
    "        # Kiểm tra điểm trong mỗi cụm\n",
    "        for i, cluster in enumerate(self.clusters):\n",
    "            print(f\"Cụm {i+1} có {len(cluster)} điểm\")\n",
    "\n",
    "        # Bước 3: Tính điểm đại diện mới \n",
    "        self.representatives = []\n",
    "        for cluster in self.clusters:\n",
    "            if len(cluster) > self.num_representatives:\n",
    "                farthest_points = self._get_farthest_points(cluster)\n",
    "                centroid = np.mean(farthest_points, axis=0)  # Tính trung tâm cụm\n",
    "                shrunk_points = centroid + self.shrink_factor * (farthest_points - centroid)  # Điểm đại diện mới\n",
    "                self.representatives.append(shrunk_points)\n",
    "            else:\n",
    "                self.representatives.append(np.array(cluster))\n",
    "\n",
    "    # Bước 2: Lấy điểm xa nhất \n",
    "    def _get_farthest_points(self, cluster):\n",
    "        cluster = np.array(cluster)\n",
    "        centroid = np.mean(cluster, axis=0)\n",
    "        distances = np.linalg.norm(cluster - centroid, axis=1)\n",
    "        return cluster[np.argsort(distances)[-self.num_representatives:]]\n",
    "\n",
    "    \n",
    "    def plot_clusters(self):\n",
    "        plt.figure(figsize=(10, 8))\n",
    "        colors = plt.cm.get_cmap('Set1', self.k)  # Bảng màu rõ ràng\n",
    "\n",
    "        # Vẽ các điểm dữ liệu theo cụm\n",
    "        for i in range(self.k):\n",
    "            cluster_points = self.X_[self.labels_ == i]\n",
    "            plt.scatter(cluster_points[:, 0], cluster_points[:, 1],\n",
    "                color=colors(i), label=f'Cụm {i+1}', alpha=0.6)\n",
    "\n",
    "        # Vẽ các điểm đại diện\n",
    "        for reps in self.representatives:\n",
    "            reps = np.array(reps)\n",
    "            plt.scatter(reps[:, 0], reps[:, 1],\n",
    "                color='yellow', edgecolors='black',\n",
    "                marker='X', s=200, linewidths=1.5, label='Điểm đại diện cụm')\n",
    "\n",
    "        # Tiêu đề và nhãn trục\n",
    "        plt.title('CURE Clustering', fontsize=14)\n",
    "        plt.xlabel('Have you ever had suicidal thoughts ?')\n",
    "        plt.ylabel('Gender')\n",
    "\n",
    "        # Đánh giá cụm\n",
    "        from sklearn.metrics import silhouette_score, davies_bouldin_score, calinski_harabasz_score\n",
    "        silhouette = silhouette_score(self.X_, self.labels_)\n",
    "        davies = davies_bouldin_score(self.X_, self.labels_)\n",
    "        calinski = calinski_harabasz_score(self.X_, self.labels_)\n",
    "\n",
    "        # Hiển thị thông số đánh giá ở góc trên bên trái\n",
    "        plt.text(0.01, 0.99,\n",
    "                f'Silhouette: {silhouette:.4f}\\nDavies-Bouldin: {davies:.4f}\\nCalinski-Harabasz: {calinski:.1f}',\n",
    "                transform=plt.gca().transAxes,\n",
    "                fontsize=11, verticalalignment='top',\n",
    "                bbox=dict(facecolor='white', alpha=0.7))\n",
    "\n",
    "        plt.legend()\n",
    "        plt.tight_layout()\n",
    "        plt.show()\n"
   ],
   "outputs": [],
   "execution_count": 20
  },
  {
   "cell_type": "markdown",
   "metadata": {},
   "source": [
    "### ELBOW METHOD"
   ]
  },
  {
   "cell_type": "code",
   "metadata": {
    "ExecuteTime": {
     "end_time": "2025-04-13T16:59:34.219685Z",
     "start_time": "2025-04-13T16:59:34.205683Z"
    }
   },
   "source": [
    "# results = []\n",
    "\n",
    "# for k in range(2, 10):  # Thử từ 2 đến 10 cụm\n",
    "#     cure = CURE(k=k, a=0.3, num_representatives=5)\n",
    "#     cure.fit(df)  # Huấn luyện mô hình\n",
    "#     labels = cure.labels_  # Lấy nhãn của các điểm dữ liệu\n",
    "#     score = silhouette_score(df, labels)\n",
    "    \n",
    "#     results.append({\"Số cụm (k)\": k, \"Silhouette Score\": score})\n",
    "\n",
    "# # Tạo DataFrame\n",
    "# df_results = pd.DataFrame(results).sort_values(by=\"Silhouette Score\", ascending=False)\n",
    "\n",
    "# # Hiển thị bảng\n",
    "# from IPython.display import display\n",
    "# display(df_results)\n"
   ],
   "outputs": [],
   "execution_count": 21
  },
  {
   "cell_type": "code",
   "metadata": {
    "ExecuteTime": {
     "end_time": "2025-04-13T16:59:34.282124Z",
     "start_time": "2025-04-13T16:59:34.270134Z"
    }
   },
   "source": [],
   "outputs": [],
   "execution_count": null
  },
  {
   "cell_type": "code",
   "metadata": {
    "ExecuteTime": {
     "end_time": "2025-04-13T17:10:20.592417Z",
     "start_time": "2025-04-13T16:59:34.347709Z"
    }
   },
   "source": [
    "cure = CURE(k=2, a=0.3, num_representatives=5)\n",
    "cure.fit(df)\n",
    "cure.plot_clusters()"
   ],
   "outputs": [
    {
     "name": "stdout",
     "output_type": "stream",
     "text": [
      "Số mẫu ban đầu trong DataFrame: 27897\n",
      "Số mẫu sau khi lấy ngẫu nhiên: 2500\n"
     ]
    },
    {
     "ename": "KeyboardInterrupt",
     "evalue": "",
     "output_type": "error",
     "traceback": [
      "\u001B[1;31m---------------------------------------------------------------------------\u001B[0m",
      "\u001B[1;31mKeyboardInterrupt\u001B[0m                         Traceback (most recent call last)",
      "Cell \u001B[1;32mIn[22], line 2\u001B[0m\n\u001B[0;32m      1\u001B[0m cure \u001B[38;5;241m=\u001B[39m CURE(k\u001B[38;5;241m=\u001B[39m\u001B[38;5;241m2\u001B[39m, a\u001B[38;5;241m=\u001B[39m\u001B[38;5;241m0.3\u001B[39m, num_representatives\u001B[38;5;241m=\u001B[39m\u001B[38;5;241m5\u001B[39m)\n\u001B[1;32m----> 2\u001B[0m \u001B[43mcure\u001B[49m\u001B[38;5;241;43m.\u001B[39;49m\u001B[43mfit\u001B[49m\u001B[43m(\u001B[49m\u001B[43mdf\u001B[49m\u001B[43m)\u001B[49m\n\u001B[0;32m      3\u001B[0m cure\u001B[38;5;241m.\u001B[39mplot_clusters()\n",
      "Cell \u001B[1;32mIn[20], line 32\u001B[0m, in \u001B[0;36mCURE.fit\u001B[1;34m(self, df)\u001B[0m\n\u001B[0;32m     30\u001B[0m \u001B[38;5;28;01mfor\u001B[39;00m i \u001B[38;5;129;01min\u001B[39;00m \u001B[38;5;28mrange\u001B[39m(\u001B[38;5;28mlen\u001B[39m(\u001B[38;5;28mself\u001B[39m\u001B[38;5;241m.\u001B[39mclusters)):\n\u001B[0;32m     31\u001B[0m     \u001B[38;5;28;01mfor\u001B[39;00m j \u001B[38;5;129;01min\u001B[39;00m \u001B[38;5;28mrange\u001B[39m(i \u001B[38;5;241m+\u001B[39m \u001B[38;5;241m1\u001B[39m, \u001B[38;5;28mlen\u001B[39m(\u001B[38;5;28mself\u001B[39m\u001B[38;5;241m.\u001B[39mclusters)):\n\u001B[1;32m---> 32\u001B[0m         dist \u001B[38;5;241m=\u001B[39m np\u001B[38;5;241m.\u001B[39mmin(\u001B[43mcdist\u001B[49m\u001B[43m(\u001B[49m\u001B[38;5;28;43mself\u001B[39;49m\u001B[38;5;241;43m.\u001B[39;49m\u001B[43mclusters\u001B[49m\u001B[43m[\u001B[49m\u001B[43mi\u001B[49m\u001B[43m]\u001B[49m\u001B[43m,\u001B[49m\u001B[43m \u001B[49m\u001B[38;5;28;43mself\u001B[39;49m\u001B[38;5;241;43m.\u001B[39;49m\u001B[43mclusters\u001B[49m\u001B[43m[\u001B[49m\u001B[43mj\u001B[49m\u001B[43m]\u001B[49m\u001B[43m)\u001B[49m)\n\u001B[0;32m     33\u001B[0m         \u001B[38;5;28;01mif\u001B[39;00m dist \u001B[38;5;241m<\u001B[39m min_dist:\n\u001B[0;32m     34\u001B[0m             min_dist \u001B[38;5;241m=\u001B[39m dist\n",
      "File \u001B[1;32mC:\\KPDL\\venv\\lib\\site-packages\\scipy\\spatial\\distance.py:2980\u001B[0m, in \u001B[0;36mcdist\u001B[1;34m(XA, XB, metric, out, **kwargs)\u001B[0m\n\u001B[0;32m   2978\u001B[0m \u001B[38;5;28;01mif\u001B[39;00m metric_info \u001B[38;5;129;01mis\u001B[39;00m \u001B[38;5;129;01mnot\u001B[39;00m \u001B[38;5;28;01mNone\u001B[39;00m:\n\u001B[0;32m   2979\u001B[0m     cdist_fn \u001B[38;5;241m=\u001B[39m metric_info\u001B[38;5;241m.\u001B[39mcdist_func\n\u001B[1;32m-> 2980\u001B[0m     \u001B[38;5;28;01mreturn\u001B[39;00m cdist_fn(XA, XB, out\u001B[38;5;241m=\u001B[39mout, \u001B[38;5;241m*\u001B[39m\u001B[38;5;241m*\u001B[39mkwargs)\n\u001B[0;32m   2981\u001B[0m \u001B[38;5;28;01melif\u001B[39;00m mstr\u001B[38;5;241m.\u001B[39mstartswith(\u001B[38;5;124m\"\u001B[39m\u001B[38;5;124mtest_\u001B[39m\u001B[38;5;124m\"\u001B[39m):\n\u001B[0;32m   2982\u001B[0m     metric_info \u001B[38;5;241m=\u001B[39m _TEST_METRICS\u001B[38;5;241m.\u001B[39mget(mstr, \u001B[38;5;28;01mNone\u001B[39;00m)\n",
      "\u001B[1;31mKeyboardInterrupt\u001B[0m: "
     ]
    }
   ],
   "execution_count": 22
  }
 ],
 "metadata": {
  "kernelspec": {
   "display_name": "Python 3",
   "language": "python",
   "name": "python3"
  },
  "language_info": {
   "codemirror_mode": {
    "name": "ipython",
    "version": 3
   },
   "file_extension": ".py",
   "mimetype": "text/x-python",
   "name": "python",
   "nbconvert_exporter": "python",
   "pygments_lexer": "ipython3",
   "version": "3.9.5"
  }
 },
 "nbformat": 4,
 "nbformat_minor": 2
}
